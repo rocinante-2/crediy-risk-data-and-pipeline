{
 "cells": [
  {
   "cell_type": "code",
   "execution_count": 1,
   "id": "edafeddd-9ac4-4704-9b06-b38a08f3afc5",
   "metadata": {},
   "outputs": [],
   "source": [
    "import pandas as pd, numpy as np"
   ]
  },
  {
   "cell_type": "code",
   "execution_count": 2,
   "id": "b403ce35-8bf4-4701-9059-d26bc1c643c5",
   "metadata": {},
   "outputs": [
    {
     "data": {
      "text/plain": [
       "'C:\\\\Users\\\\Debjata'"
      ]
     },
     "execution_count": 2,
     "metadata": {},
     "output_type": "execute_result"
    }
   ],
   "source": [
    "import os\n",
    "\n",
    "os.getcwd()"
   ]
  },
  {
   "cell_type": "code",
   "execution_count": 3,
   "id": "786b90f4-1cd2-4b74-8e33-327d7ef2f55e",
   "metadata": {},
   "outputs": [],
   "source": [
    "df = pd.DataFrame(index = np.arange(1_00_000), columns = np.arange(1))"
   ]
  },
  {
   "cell_type": "code",
   "execution_count": 4,
   "id": "2729309e-8b80-421c-ac64-3e3354d7bfd8",
   "metadata": {},
   "outputs": [],
   "source": [
    "df.insert(0, 'ID', range(0 + len(df)))"
   ]
  },
  {
   "cell_type": "code",
   "execution_count": 5,
   "id": "4b9e49b5-d3d8-4a14-bbff-766368f0a4b2",
   "metadata": {},
   "outputs": [],
   "source": [
    "### making sourcing month variable\n",
    "\n",
    "num_rows = 1_00_000\n",
    "\n",
    "percent_s1 = 0.1\n",
    "percent_s2 = 0.15\n",
    "percent_s3 = 0.2\n",
    "percent_s4 = 0.2\n",
    "percent_s5 = 0.2\n",
    "percent_s6 = 0.15\n",
    "\n",
    "\n",
    "num_1 = int(num_rows * percent_s1)\n",
    "num_2 = int(num_rows * percent_s2)\n",
    "num_3 = int(num_rows * percent_s3)\n",
    "num_4 = int(num_rows * percent_s4)\n",
    "num_5 = int(num_rows * percent_s5)\n",
    "num_6 = int(num_rows * percent_s6)\n",
    "\n",
    "column_data = ['2024-01-01'] * num_1 + ['2024-02-01'] * num_2 + ['2024-03-01'] * num_3 + ['2024-04-01'] * num_4 + ['2024-05-01'] * num_5 + ['2024-06-01'] * num_6\n",
    "\n",
    "\n",
    "np.random.shuffle(column_data)\n",
    "df1 = pd.DataFrame(column_data)\n",
    "df1.rename(columns = {0:'sourcing_month'},inplace=True)"
   ]
  },
  {
   "cell_type": "code",
   "execution_count": 6,
   "id": "d59e4dd9-613d-46ce-a8d2-034a37dd0d87",
   "metadata": {},
   "outputs": [],
   "source": [
    "df = df[['ID']]\n",
    "df = pd.concat([df,df1], axis=1)"
   ]
  },
  {
   "cell_type": "code",
   "execution_count": 7,
   "id": "380a283d-99f5-4c67-86fc-c25ade5b3abe",
   "metadata": {},
   "outputs": [
    {
     "data": {
      "text/plain": [
       "sourcing_month\n",
       "2024-03-01    20000\n",
       "2024-05-01    20000\n",
       "2024-04-01    20000\n",
       "2024-02-01    15000\n",
       "2024-06-01    15000\n",
       "2024-01-01    10000\n",
       "Name: count, dtype: int64"
      ]
     },
     "execution_count": 7,
     "metadata": {},
     "output_type": "execute_result"
    }
   ],
   "source": [
    "df['sourcing_month'].value_counts(dropna=False)"
   ]
  },
  {
   "cell_type": "code",
   "execution_count": null,
   "id": "bc76108e-1853-46cc-b2f2-787d23af012f",
   "metadata": {},
   "outputs": [],
   "source": []
  },
  {
   "cell_type": "code",
   "execution_count": 8,
   "id": "07c756ba-6a07-4486-9adc-60f3c7529d9b",
   "metadata": {},
   "outputs": [],
   "source": [
    "### making geo month variable\n",
    "\n",
    "num_rows = 1_00_000\n",
    "\n",
    "percent_s1 = 0.2\n",
    "percent_s2 = 0.3\n",
    "percent_s3 = 0.4\n",
    "percent_s4 = 0.1\n",
    "\n",
    "\n",
    "num_1 = int(num_rows * percent_s1)\n",
    "num_2 = int(num_rows * percent_s2)\n",
    "num_3 = int(num_rows * percent_s3)\n",
    "num_4 = int(num_rows * percent_s4)\n",
    "\n",
    "\n",
    "state_data = ['WB'] * num_1 + ['MH'] * num_2 + ['TN'] * num_3 + ['UP'] * num_4\n",
    "\n",
    "\n",
    "np.random.shuffle(state_data)\n",
    "df1 = pd.DataFrame(state_data)\n",
    "df1.rename(columns = {0:'state'},inplace=True)\n",
    "\n",
    "df = pd.concat([df,df1], axis=1)"
   ]
  },
  {
   "cell_type": "code",
   "execution_count": null,
   "id": "2a61a2c5-5969-4486-8e0d-0aee7a86ec5e",
   "metadata": {},
   "outputs": [],
   "source": []
  },
  {
   "cell_type": "code",
   "execution_count": 9,
   "id": "ffde4f2c-68bd-4df7-a36d-19a2836649cf",
   "metadata": {},
   "outputs": [
    {
     "data": {
      "text/plain": [
       "state\n",
       "TN    40000\n",
       "MH    30000\n",
       "WB    20000\n",
       "UP    10000\n",
       "Name: count, dtype: int64"
      ]
     },
     "execution_count": 9,
     "metadata": {},
     "output_type": "execute_result"
    }
   ],
   "source": [
    "df['state'].value_counts(dropna=False)"
   ]
  },
  {
   "cell_type": "code",
   "execution_count": null,
   "id": "7d285aa5-c285-4bcd-9ff6-fd15f2901336",
   "metadata": {},
   "outputs": [],
   "source": []
  },
  {
   "cell_type": "code",
   "execution_count": 10,
   "id": "90a9da38-e5bc-45c2-81b1-c6419d74cfe1",
   "metadata": {},
   "outputs": [],
   "source": [
    "### making channel month variable\n",
    "\n",
    "num_rows = 1_00_000\n",
    "\n",
    "percent_s1 = 0.2\n",
    "percent_s2 = 0.6\n",
    "percent_s3 = 0.1\n",
    "percent_s4 = 0.1\n",
    "\n",
    "\n",
    "num_1 = int(num_rows * percent_s1)\n",
    "num_2 = int(num_rows * percent_s2)\n",
    "num_3 = int(num_rows * percent_s3)\n",
    "num_4 = int(num_rows * percent_s4)\n",
    "\n",
    "\n",
    "channel_data = ['ch1'] * num_1 + ['ch2'] * num_2 + ['ch3'] * num_3 + ['ch4'] * num_4\n",
    "\n",
    "\n",
    "np.random.shuffle(channel_data)\n",
    "df1 = pd.DataFrame(channel_data)\n",
    "df1.rename(columns = {0:'channel'},inplace=True)\n",
    "\n",
    "df = pd.concat([df,df1], axis=1)"
   ]
  },
  {
   "cell_type": "code",
   "execution_count": null,
   "id": "05dc1644-b980-40f0-b4f4-3442b524240c",
   "metadata": {},
   "outputs": [],
   "source": []
  },
  {
   "cell_type": "code",
   "execution_count": 11,
   "id": "a51ce273-b10d-4d99-840e-7aa49538f22a",
   "metadata": {},
   "outputs": [],
   "source": [
    "### making segment month variable\n",
    "\n",
    "num_rows = 1_00_000\n",
    "\n",
    "percent_s1 = 0.2\n",
    "percent_s2 = 0.6\n",
    "percent_s3 = 0.2\n",
    "\n",
    "\n",
    "\n",
    "num_1 = int(num_rows * percent_s1)\n",
    "num_2 = int(num_rows * percent_s2)\n",
    "num_3 = int(num_rows * percent_s3)\n",
    "\n",
    "\n",
    "\n",
    "income_data = ['high'] * num_1 + ['med'] * num_2 + ['low'] * num_3 \n",
    "\n",
    "\n",
    "np.random.shuffle(income_data)\n",
    "df1 = pd.DataFrame(income_data)\n",
    "df1.rename(columns = {0:'income_seg'},inplace=True)\n",
    "\n",
    "df = pd.concat([df,df1], axis=1)"
   ]
  },
  {
   "cell_type": "code",
   "execution_count": null,
   "id": "39cc5aa6-0671-4f21-9728-c62cd53917b2",
   "metadata": {},
   "outputs": [],
   "source": []
  },
  {
   "cell_type": "code",
   "execution_count": 12,
   "id": "63b6fb35-e140-41ce-8317-000e8e631fb3",
   "metadata": {},
   "outputs": [],
   "source": [
    "# Define base weights\n",
    "state_weight = {'MH': 1.2, 'TN': 1.0, 'UP': 0.9, 'WB': 0.85}\n",
    "channel_weight = {'ch1': 1.2, 'ch2': 1.0, 'ch3': 0.8, 'ch4': 0.6}\n",
    "income_weight = {'high': 1.3, 'med': 1.0, 'low': 0.7}\n",
    "\n",
    "# Assign ticket size\n",
    "np.random.seed(42)  # For reproducibility\n",
    "base_amount = 10000  # You can adjust this\n",
    "\n",
    "df['ticket_size'] = df.apply(\n",
    "    lambda row: round(\n",
    "        base_amount *\n",
    "        state_weight.get(row['state'], 0.8) *\n",
    "        channel_weight.get(row['channel'], 1.0) *\n",
    "        income_weight.get(row['income_seg'], 1.0) *\n",
    "        np.random.normal(1, 0.05), 2\n",
    "    ),\n",
    "    axis=1\n",
    ")\n",
    "df['ticket_size'] = df['ticket_size'].round(0)\n"
   ]
  },
  {
   "cell_type": "code",
   "execution_count": 13,
   "id": "24df45bf-dd2e-46a6-805d-e97b074859a6",
   "metadata": {},
   "outputs": [],
   "source": [
    "state_age = {'MH': 1.1, 'TN': 1.0, 'UP': 0.95, 'WB': 0.9}\n",
    "channel_age = {'ch1': 1.1, 'ch2': 1.0, 'ch3': 0.9, 'ch4': 0.7}\n",
    "income_age = {'high': 1.2, 'med': 1.0, 'low': 0.8}\n",
    "\n",
    "# Base age and noise\n",
    "base_age = 30\n",
    "np.random.seed(42)\n",
    "\n",
    "df['age'] = df.apply(\n",
    "    lambda row: int(\n",
    "        base_age *\n",
    "        state_age.get(row['state'], 0.9) *\n",
    "        channel_age.get(row['channel'], 1.0) *\n",
    "        income_age.get(row['income_seg'], 1.0) *\n",
    "        np.random.normal(1, 0.05)\n",
    "    ),\n",
    "    axis=1\n",
    ")\n",
    "\n",
    "# Optional: cap age between 21 and 65\n",
    "df['age'] = df['age'].clip(lower=21, upper=65)\n"
   ]
  },
  {
   "cell_type": "code",
   "execution_count": 14,
   "id": "dcfd6536-2080-488c-990a-e45263a2bddd",
   "metadata": {},
   "outputs": [],
   "source": [
    "#make default flag\n",
    "\n",
    "# Define base risk weights\n",
    "state_risk = {'WB': 1.3, 'UP': 1.1, 'TN': 1.0, 'MH': 0.9}\n",
    "channel_risk = {'ch1': 2, 'ch2': 1.0, 'ch3': 0.6, 'ch4': 0.2}\n",
    "income_risk = {'low': 2.5, 'med': 1.0, 'high': 0.2}\n",
    "\n",
    "# Base probability of default\n",
    "base_prob = 0.05  # 5% base rate\n",
    "np.random.seed(42)\n",
    "\n",
    "# Calculate probability and assign flag\n",
    "def assign_dpd(row):\n",
    "    prob = base_prob * \\\n",
    "           state_risk.get(row['state'], 1.0) * \\\n",
    "           channel_risk.get(row['channel'], 1.0) * \\\n",
    "           income_risk.get(row['income_seg'], 1.0)\n",
    "    return int(np.random.rand() < prob)\n",
    "\n",
    "df['dpd_90_ever'] = df.apply(assign_dpd, axis=1)\n"
   ]
  },
  {
   "cell_type": "code",
   "execution_count": null,
   "id": "57e5ce58-2a47-4362-bebf-dc340ed386f1",
   "metadata": {},
   "outputs": [],
   "source": []
  },
  {
   "cell_type": "code",
   "execution_count": 15,
   "id": "922d7b78-c59b-45b4-9c7e-bbe4d8a8c4d0",
   "metadata": {},
   "outputs": [
    {
     "data": {
      "text/plain": [
       "dpd_90_ever\n",
       "0    93581\n",
       "1     6419\n",
       "Name: count, dtype: int64"
      ]
     },
     "execution_count": 15,
     "metadata": {},
     "output_type": "execute_result"
    }
   ],
   "source": [
    "df['dpd_90_ever'].value_counts()"
   ]
  },
  {
   "cell_type": "code",
   "execution_count": 16,
   "id": "1f1b9864-bda0-4458-a110-c90f3b81b045",
   "metadata": {},
   "outputs": [
    {
     "data": {
      "text/plain": [
       "state\n",
       "MH    0.054233\n",
       "TN    0.063675\n",
       "UP    0.064700\n",
       "WB    0.079900\n",
       "Name: dpd_90_ever, dtype: float64"
      ]
     },
     "execution_count": 16,
     "metadata": {},
     "output_type": "execute_result"
    }
   ],
   "source": [
    "df.groupby('state')['dpd_90_ever'].mean()"
   ]
  },
  {
   "cell_type": "code",
   "execution_count": 17,
   "id": "aa09336c-8276-4e06-89a9-45ec1d9a7a74",
   "metadata": {},
   "outputs": [
    {
     "data": {
      "text/plain": [
       "channel\n",
       "ch1    0.118300\n",
       "ch2    0.059367\n",
       "ch3    0.036000\n",
       "ch4    0.013100\n",
       "Name: dpd_90_ever, dtype: float64"
      ]
     },
     "execution_count": 17,
     "metadata": {},
     "output_type": "execute_result"
    }
   ],
   "source": [
    "df.groupby('channel')['dpd_90_ever'].mean()"
   ]
  },
  {
   "cell_type": "code",
   "execution_count": 18,
   "id": "062b9e86-3524-4027-bc34-6256029fa3fd",
   "metadata": {},
   "outputs": [
    {
     "data": {
      "text/plain": [
       "income_seg\n",
       "high    0.011500\n",
       "low     0.142600\n",
       "med     0.055617\n",
       "Name: dpd_90_ever, dtype: float64"
      ]
     },
     "execution_count": 18,
     "metadata": {},
     "output_type": "execute_result"
    }
   ],
   "source": [
    "df.groupby('income_seg')['dpd_90_ever'].mean()"
   ]
  },
  {
   "cell_type": "code",
   "execution_count": 19,
   "id": "1418b138-5327-458b-8f30-f546ccf15faa",
   "metadata": {},
   "outputs": [],
   "source": [
    "np.random.seed(42)\n",
    "\n",
    "### 8. Branch Visit Frequency (0–10)\n",
    "def assign_branch_visits(channel):\n",
    "    if channel == 'ch1':\n",
    "        return np.random.poisson(3.5)  # Highest\n",
    "    elif channel == 'ch2':\n",
    "        return np.random.poisson(2.0)\n",
    "    elif channel == 'ch3':\n",
    "        return np.random.poisson(1.0)\n",
    "    else:  # ch4\n",
    "        return np.random.binomial(1, 0.3)  # Mostly low\n",
    "\n",
    "df['branch_visit_freq'] = df['channel'].apply(assign_branch_visits)\n",
    "df['branch_visit_freq'] = df['branch_visit_freq'].clip(0, 10)\n",
    "\n",
    "### 9. Referral Source\n",
    "def assign_referral(row):\n",
    "    if row['channel'] == 'ch1':\n",
    "        return np.random.choice(['Branch', 'Agent'], p=[0.6, 0.4])\n",
    "    elif row['channel'] == 'ch3':\n",
    "        return np.random.choice(['Online Ad', 'Friend'], p=[0.7, 0.3])\n",
    "    elif row['channel'] == 'ch2':\n",
    "        return np.random.choice(['Branch', 'Agent', 'Online Ad', 'Friend'], p=[0.3, 0.3, 0.2, 0.2])\n",
    "    else:  # ch4\n",
    "        return np.random.choice(['Online Ad', 'Friend', 'Agent'], p=[0.5, 0.3, 0.2])\n",
    "\n",
    "df['referral_source'] = df.apply(assign_referral, axis=1)\n",
    "\n",
    "### 10. Document Completeness Flag\n",
    "def assign_doc_flag(row):\n",
    "    prob = 0.6  # base probability\n",
    "    if row['channel'] == 'ch1':\n",
    "        prob += 0.15\n",
    "    if row['state'] == 'MH':\n",
    "        prob += 0.1\n",
    "    if row['income_seg'] == 'high':\n",
    "        prob += 0.15\n",
    "    return int(np.random.rand() < min(prob, 0.95))  # cap at 95%\n",
    "\n",
    "df['doc_complete_flag'] = df.apply(assign_doc_flag, axis=1)\n",
    "\n",
    "# Preview\n",
    "# print(df[['ID', 'channel', 'state', 'income_seg', 'branch_visit_freq', 'referral_source', 'doc_complete_flag']].head())"
   ]
  },
  {
   "cell_type": "code",
   "execution_count": 20,
   "id": "ea49e298-6f41-4a0b-8cc8-6f15644fffaa",
   "metadata": {},
   "outputs": [
    {
     "data": {
      "text/plain": [
       "['ID',\n",
       " 'sourcing_month',\n",
       " 'state',\n",
       " 'channel',\n",
       " 'income_seg',\n",
       " 'ticket_size',\n",
       " 'age',\n",
       " 'dpd_90_ever',\n",
       " 'branch_visit_freq',\n",
       " 'referral_source',\n",
       " 'doc_complete_flag']"
      ]
     },
     "execution_count": 20,
     "metadata": {},
     "output_type": "execute_result"
    }
   ],
   "source": [
    "df.columns.tolist()"
   ]
  },
  {
   "cell_type": "code",
   "execution_count": 21,
   "id": "89deb09e-0e2b-45ca-85c3-6987d4a16674",
   "metadata": {},
   "outputs": [],
   "source": [
    "df = df[['ID',\n",
    " 'sourcing_month',\n",
    " 'state',\n",
    " 'channel',\n",
    " 'income_seg',\n",
    " 'ticket_size',\n",
    " 'age',\n",
    " 'branch_visit_freq',\n",
    " 'referral_source',\n",
    " 'doc_complete_flag', 'dpd_90_ever',]]"
   ]
  },
  {
   "cell_type": "code",
   "execution_count": 22,
   "id": "a5fa2e23-bcc9-47a6-bb23-31a660e517ba",
   "metadata": {},
   "outputs": [],
   "source": [
    "df['doc_complete_flag']= df['doc_complete_flag'].astype('str')+ '_'"
   ]
  },
  {
   "cell_type": "code",
   "execution_count": 23,
   "id": "c2b9e2db-2aeb-4ce8-9e77-748c8289254b",
   "metadata": {},
   "outputs": [],
   "source": [
    "df.to_csv('dummy_credit_risk_data.csv', index=False)"
   ]
  },
  {
   "cell_type": "code",
   "execution_count": 24,
   "id": "ead02646-deee-41ec-ac35-d1f87758fcf2",
   "metadata": {},
   "outputs": [],
   "source": [
    "df.to_excel('dummy_credit_risk_data.xlsx', index=False)"
   ]
  },
  {
   "cell_type": "code",
   "execution_count": null,
   "id": "c8a5dffb-95a7-4757-a186-92536fa54ea1",
   "metadata": {},
   "outputs": [],
   "source": []
  }
 ],
 "metadata": {
  "kernelspec": {
   "display_name": "Python 3 (ipykernel)",
   "language": "python",
   "name": "python3"
  },
  "language_info": {
   "codemirror_mode": {
    "name": "ipython",
    "version": 3
   },
   "file_extension": ".py",
   "mimetype": "text/x-python",
   "name": "python",
   "nbconvert_exporter": "python",
   "pygments_lexer": "ipython3",
   "version": "3.12.7"
  }
 },
 "nbformat": 4,
 "nbformat_minor": 5
}
